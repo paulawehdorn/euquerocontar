{
 "cells": [
  {
   "cell_type": "markdown",
   "id": "254c0854",
   "metadata": {
    "heading_collapsed": true,
    "jp-MarkdownHeadingCollapsed": true
   },
   "source": [
    "# I. Entendimento do negócio"
   ]
  },
  {
   "cell_type": "markdown",
   "id": "5b19e26c",
   "metadata": {},
   "source": [
    "## 1. Qual o objetivo do projeto?"
   ]
  },
  {
   "cell_type": "markdown",
   "id": "6e3ef1c8",
   "metadata": {},
   "source": [
    "\n",
    "\n",
    "**1.1. Por que este projeto é importante?**\n",
    "\n",
    "**1.2. Como podemos fazer isso?**\n",
    "\n",
    "**1.3. O que buscamos?**\n"
   ]
  },
  {
   "cell_type": "markdown",
   "id": "cd949d59",
   "metadata": {},
   "source": [
    "## 2. Como será realizado?"
   ]
  },
  {
   "cell_type": "markdown",
   "id": "b6d9e671",
   "metadata": {},
   "source": [
    "**2.1. Gerenciamento e organização do projeto:**\n",
    "- Gerenciamento: framework [SCRUM](https://www.scrum.org/resources/what-scrum-module);\n",
    "- Organização: framework [DM-CRISP](https://www.datascience-pm.com/crisp-dm-2/).\n",
    "\n",
    "**2.2. Onde encontro os dados?**\n",
    "- Os dados utilizados neste projeto são reais; \n",
    "- Extraídos do site da [Secretaria da Segurança Pública do estado do Rio Grande do Sul](https://www.ssp.rs.gov.br/estatisticas);\n",
    "- Publicados pela Segurança Pública em formato aberto, conforme previsão da Lei nº 15.610, de 29 de abril de 2021, a partir de outubro do mesmo ano;\n",
    "- O dados tb encontram-se disponibilizados na pasta \"data\".\n",
    "\n",
    "**2.3. Quais as características que influenciam o número dos casos de dengue?**\n",
    "- O dicionário de dados encontra-se [aqui]().\n",
    "\n",
    "**2.4. Como será medido o desempenho?**\n",
    "\n",
    "  **2.4.1. Por que?**\n",
    "\n",
    "  **2.4.2. Como interpretar?**\n",
    "\n",
    "  **2.4.3. O que é?**\n"
   ]
  },
  {
   "cell_type": "markdown",
   "id": "5d67ee81",
   "metadata": {},
   "source": [
    "## 3. O que será entregue?"
   ]
  },
  {
   "cell_type": "markdown",
   "id": "ec841039",
   "metadata": {},
   "source": [
    "## 4. Dicionários de dados"
   ]
  },
  {
   "cell_type": "markdown",
   "id": "3c1591d6",
   "metadata": {},
   "source": [
    "FEATURE\t| DESCRIPTION | TYPE | DETAIL\n",
    "-- | -- | -- | --\n",
    "Sequência | -- | Nominal | --\n",
    "Data Fato | -- | Data | --\n",
    "Hora Fato | -- | Hora | --\n",
    "Grupo Fato | -- | Nominal | 'CRIMES', 'CONTRAVENCOES'\n",
    "Tipo Enquadramento | -- | Nominal | 240 tipos diferentes??\n",
    "Tipo Fato | -- | Nominal | 'Consumado'\n",
    "Municipio Fato | -- | Nominal | 497 municípios do estado do RS??\n",
    "Local Fato | -- | Nominal | 'RESIDENCIA', 'VIA PUBLICA', 'OUTROS', 'ETABELECIMENTO ENSINO',        'ESTABELECIMENTO COMERCIAL', 'ESTABELECIMENTO DIVERSAO', 'HOSPITAIS/CLINICAS', 'INTERIOR COLETIVOS', 'METRO/RODOVIARIA'\n",
    "Bairro | -- | Nominal | 9495 bairros do estado do RS??\n",
    "Quantidade Vítimas | -- | Discreta | 0? a 42\n",
    "Idade Vítima | -- | Nominal | 0? a 121?\n",
    "Sexo Vítima | -- | Nominal | 'Masculino', 'Feminino', nan\n",
    "Cor Vítima  | -- | Nominal | 'Branca', 'Parda', 'Sem informação', nan, 'Preta', 'Amarela', 'Indígena"
   ]
  },
  {
   "cell_type": "markdown",
   "id": "08f7b09f",
   "metadata": {},
   "source": [
    "### Tipos de violência contra a mulher:"
   ]
  },
  {
   "cell_type": "markdown",
   "id": "1f6331eb",
   "metadata": {},
   "source": [
    "#### 1. **Violência física**: Entendida como qualquer conduta que **ofenda a integridade ou saúde corporal** da mulher.\n",
    "   - Espancamento\n",
    "   - Atirar objetos, sacudir e apertar os braços\n",
    "   - Estrangulamento ou sufocamento\n",
    "   - Lesões com objetos cortantes ou perfurantes\n",
    "   - Ferimentos causados por queimaduras ou armas de fogo\n",
    "   - Tortura\n",
    "#### 2. **Violência Psicológica**: É considerada qualquer conduta que: cause dano emocional e diminuição da autoestima; prejudique e perturbe o pleno desenvolvimento da mulher; ou vise degradar ou controlar suas ações, comportamentos, crenças e decisões.\n",
    "   - Ameaças\n",
    "   - Constrangimento\n",
    "   - Humilhação\n",
    "   - Manipulação\n",
    "   - Isolamento (proibir de estudar e viajar ou de falar com amigos e parentes)\n",
    "   - Vigilância constante\n",
    "   - Perseguição contumaz\n",
    "   - Insultos\n",
    "   - Chantagem\n",
    "   - Exploração\n",
    "   - Limitação do direito de ir e vir\n",
    "   - Ridicularização\n",
    "   - Tirar a liberdade de crença\n",
    "   - Distorcer e omitir fatos para deixar a mulher em dúvida sobre a sua memória e sanidade (gaslighting)\n",
    "#### 3. **Violência Sexual**: Trata-se de qualquer conduta que constranja a presenciar, a manter ou a participar de relação sexual não desejada mediante intimidação, ameaça, coação ou uso da força.\n",
    "   - Estupro\n",
    "   - Obrigar a mulher a fazer atos sexuais que causam desconforto ou repulsa\n",
    "   - Impedir o uso de métodos contraceptivos ou forçar a mulher a abortar\n",
    "   - Forçar matrimônio, gravidez ou prostituição por meio de coação, chantagem, suborno ou manipulação\n",
    "   - Limitar ou anular o exercício dos direitos sexuais e reprodutivos da mulher\n",
    "#### 4. **Violência Patrimonial**: Entendida como qualquer conduta que configure retenção, subtração, destruição parcial ou total de seus objetos, instrumentos de trabalho, documentos pessoais, bens, valores e direitos ou recursos econômicos, incluindo os destinados a satisfazer suas necessidades.\n",
    "   - Controlar o dinheiro\n",
    "   - Deixar de pagar pensão alimentícia\n",
    "   - Destruição de documentos pessoais\n",
    "   - Furto, extorsão ou dano\n",
    "   - Estelionato\n",
    "   - Privar de bens, valores ou recursos econômicos\n",
    "   - Causar danos propositais a objetos da mulher ou dos quais ela goste\n",
    "#### 5. **Violência Moral**: É considerada qualquer conduta que configure calúnia, difamação ou injúria.\n",
    "   - Acusar a mulher de traição\n",
    "   - Emitir juízos morais sobre a conduta\n",
    "   - Fazer críticas mentirosas\n",
    "   - Expor a vida íntima\n",
    "   - Rebaixar a mulher por meio de xingamentos que incidem sobre a sua índole\n",
    "   - Desvalorizar a vítima pelo seu modo de se vestir"
   ]
  },
  {
   "cell_type": "markdown",
   "id": "ac76cb3b",
   "metadata": {},
   "source": [
    "# II. Entendimento dos dados"
   ]
  },
  {
   "cell_type": "markdown",
   "id": "d2ae392a",
   "metadata": {},
   "source": [
    "## 0. IMPORTS"
   ]
  },
  {
   "cell_type": "markdown",
   "id": "49063d5c",
   "metadata": {},
   "source": [
    "### 0.1. Importing libraries"
   ]
  },
  {
   "cell_type": "code",
   "execution_count": 1,
   "id": "c50fabfd",
   "metadata": {
    "ExecuteTime": {
     "end_time": "2024-04-28T20:42:05.167858Z",
     "start_time": "2024-04-28T20:41:59.015779Z"
    }
   },
   "outputs": [],
   "source": [
    "# Data wrangling\n",
    "import pandas as pd\n",
    "import datetime\n",
    "\n",
    "# Data Visualization\n",
    "import seaborn as sns\n",
    "import matplotlib.pyplot as plt"
   ]
  },
  {
   "cell_type": "markdown",
   "id": "c1c7d89d",
   "metadata": {},
   "source": [
    "### 0.2. Helper functions"
   ]
  },
  {
   "cell_type": "code",
   "execution_count": 4,
   "id": "1b6178cc",
   "metadata": {},
   "outputs": [],
   "source": [
    "# DATA WRANGLING -----------------------------------------------------------------------------------------------\n",
    "\n",
    "def rename_columns(df_raw):\n",
    "    df = df_raw.copy()\n",
    "    df.columns = (df.columns\n",
    "                  .str.title()                  # Converte para title case\n",
    "                  .str.replace(' ', '')         # Remove espaços em branco\n",
    "                  .map(unidecode)               # Remove acentos\n",
    "                  .map(inflection.underscore))  # Converte para snake case\n",
    "    return df\n",
    "\n",
    "# Função para remover acentos, transformar em minúsculas e remover caracteres especiais\n",
    "def normalizar_texto(texto):\n",
    "    texto = unicodedata.normalize('NFKD', texto).encode('ASCII', 'ignore').decode('utf-8')\n",
    "    return texto.lower()\n",
    "\n",
    "# DATA DESCRIPTION ---------------------------------------------------------------------------------------------------------------\n",
    "\n",
    "def data_description(df_raw):\n",
    "\n",
    "    # 1. Data Dimensions\n",
    "    print('*' * 20 + ' DATA DIMENSIONS ' + '*' * 20)\n",
    "    print('Quantidade de linhas: {:,}'.format(df_raw.shape[0]))\n",
    "    print('Quantidade de colunas: {:,}'.format(df_raw.shape[1]))\n",
    "    print()\n",
    "\n",
    "    # 2. Data Types\n",
    "    print('*' * 20 + ' DATA TYPES ' + '*' * 25)\n",
    "    print(df_raw.dtypes)\n",
    "    print()\n",
    "\n",
    "    # 3. Check NA's\n",
    "    print('*' * 20 + ' CHECK NAs ' + '*' * 26)\n",
    "    print(df_raw.isna().sum())\n",
    "    print()\n",
    "\n",
    "    # 4. Check duplicated\n",
    "    print('*' * 20 + ' CHECK DUPLICATED ' + '*' * 19)\n",
    "    print('Quantidade de registros duplicados: {:,}'.format(df_raw.duplicated().sum()))\n"
   ]
  },
  {
   "cell_type": "markdown",
   "id": "268455e4",
   "metadata": {},
   "source": [
    "### 0.3. Loading data"
   ]
  },
  {
   "cell_type": "code",
   "execution_count": 10,
   "id": "d265eb9a",
   "metadata": {
    "ExecuteTime": {
     "end_time": "2024-04-28T20:42:05.589715Z",
     "start_time": "2024-04-28T20:42:05.173842Z"
    }
   },
   "outputs": [],
   "source": [
    "path = '../data/'\n",
    "\n",
    "mensal_2021_raw = pd.read_csv(path + '2021_outubro_a_dezembro_publicacao_mensal.csv', usecols=range(13), decimal='.', encoding='iso-8859-1', sep=';')\n",
    "mensal_2022_raw = pd.read_csv(path + '2022_janeiro_a_dezembro_publicacao_mensal.csv', usecols=range(13), decimal='.', encoding='iso-8859-1', sep=';')\n",
    "mensal_2023_raw = pd.read_csv(path + '2023_janeiro_a_dezembro_publicacao_mensal.csv', usecols=range(13), decimal='.', encoding='iso-8859-1', sep=';')\n",
    "mensal_2024_raw = pd.read_csv(path + '2024_janeiro_a_setembro_publicacao_mensal.csv', usecols=range(13), decimal='.', encoding='iso-8859-1', sep=';')"
   ]
  },
  {
   "cell_type": "code",
   "execution_count": 22,
   "id": "52d48f59",
   "metadata": {},
   "outputs": [
    {
     "data": {
      "text/html": [
       "<div>\n",
       "<style scoped>\n",
       "    .dataframe tbody tr th:only-of-type {\n",
       "        vertical-align: middle;\n",
       "    }\n",
       "\n",
       "    .dataframe tbody tr th {\n",
       "        vertical-align: top;\n",
       "    }\n",
       "\n",
       "    .dataframe thead th {\n",
       "        text-align: right;\n",
       "    }\n",
       "</style>\n",
       "<table border=\"1\" class=\"dataframe\">\n",
       "  <thead>\n",
       "    <tr style=\"text-align: right;\">\n",
       "      <th></th>\n",
       "      <th>Sequência</th>\n",
       "      <th>Data Fato</th>\n",
       "      <th>Hora Fato</th>\n",
       "      <th>Grupo Fato</th>\n",
       "      <th>Tipo Enquadramento</th>\n",
       "      <th>Tipo Fato</th>\n",
       "      <th>Municipio Fato</th>\n",
       "      <th>Local Fato</th>\n",
       "      <th>Bairro</th>\n",
       "      <th>Quantidade Vítimas</th>\n",
       "      <th>Idade Vítima</th>\n",
       "      <th>Sexo Vítima</th>\n",
       "      <th>Cor Vítima</th>\n",
       "    </tr>\n",
       "  </thead>\n",
       "  <tbody>\n",
       "    <tr>\n",
       "      <th>0</th>\n",
       "      <td>1</td>\n",
       "      <td>01/10/2021</td>\n",
       "      <td>00:01:00</td>\n",
       "      <td>CRIMES</td>\n",
       "      <td>INCENDIO DOLOSO</td>\n",
       "      <td>Consumado</td>\n",
       "      <td>NOVA ALVORADA</td>\n",
       "      <td>RESIDENCIA</td>\n",
       "      <td>Jardim Bela Vista</td>\n",
       "      <td>1</td>\n",
       "      <td>20.0</td>\n",
       "      <td>Masculino</td>\n",
       "      <td>Branca</td>\n",
       "    </tr>\n",
       "    <tr>\n",
       "      <th>1</th>\n",
       "      <td>2</td>\n",
       "      <td>01/10/2021</td>\n",
       "      <td>00:01:00</td>\n",
       "      <td>CRIMES</td>\n",
       "      <td>VIOLENCIA PSICOLOGICA CONTRA MULHER ART 147B</td>\n",
       "      <td>Consumado</td>\n",
       "      <td>SANTA CRUZ DO SUL</td>\n",
       "      <td>RESIDENCIA</td>\n",
       "      <td>Santa Vitória</td>\n",
       "      <td>1</td>\n",
       "      <td>66.0</td>\n",
       "      <td>Feminino</td>\n",
       "      <td>Branca</td>\n",
       "    </tr>\n",
       "  </tbody>\n",
       "</table>\n",
       "</div>"
      ],
      "text/plain": [
       "   Sequência   Data Fato Hora Fato Grupo Fato  \\\n",
       "0          1  01/10/2021  00:01:00     CRIMES   \n",
       "1          2  01/10/2021  00:01:00     CRIMES   \n",
       "\n",
       "                             Tipo Enquadramento  Tipo Fato     Municipio Fato  \\\n",
       "0                               INCENDIO DOLOSO  Consumado      NOVA ALVORADA   \n",
       "1  VIOLENCIA PSICOLOGICA CONTRA MULHER ART 147B  Consumado  SANTA CRUZ DO SUL   \n",
       "\n",
       "   Local Fato             Bairro  Quantidade Vítimas  Idade Vítima  \\\n",
       "0  RESIDENCIA  Jardim Bela Vista                   1          20.0   \n",
       "1  RESIDENCIA      Santa Vitória                   1          66.0   \n",
       "\n",
       "  Sexo Vítima Cor Vítima  \n",
       "0   Masculino     Branca  \n",
       "1    Feminino     Branca  "
      ]
     },
     "execution_count": 22,
     "metadata": {},
     "output_type": "execute_result"
    }
   ],
   "source": [
    "mensal_2021_raw.head(2)"
   ]
  },
  {
   "cell_type": "markdown",
   "id": "5042f071",
   "metadata": {},
   "source": [
    "#### Outros arquivos"
   ]
  },
  {
   "cell_type": "code",
   "execution_count": null,
   "id": "77a5ac9f",
   "metadata": {},
   "outputs": [],
   "source": [
    "path2 = '../data/1_semestre_2024_publicacao_semestral/'\n",
    "\n",
    "flagrante = pd.read_csv(path2 + '1_semestre_ago_2024_prisoes_em_flagrante_pela_pc_por_fato_e_municipio.csv', low_memory=False, decimal='.', encoding='iso-8859-1', sep=';', skiprows=8)\n",
    "vitimas_mortas  = pd.read_csv(path2 + '1_semestre_ago_2024_vitimas_mortas_de_crimes_dolosos_consumados.csv', low_memory=False, decimal='.', encoding='iso-8859-1', sep=';', skiprows=8)"
   ]
  },
  {
   "cell_type": "code",
   "execution_count": 4,
   "id": "440b6d92",
   "metadata": {},
   "outputs": [
    {
     "data": {
      "text/plain": [
       "array(['FEMINICIDIO ART 121 PAR 2 VI', 'HOMICIDIO DOLOSO',\n",
       "       'ROUBO DE VEICULO COM MORTE',\n",
       "       'HOMICIDIO DECORRENTE DE OPOSICAO A INTERVENCAO POLICIAL',\n",
       "       'LESAO CORPORAL SEGUIDA DE MORTE',\n",
       "       'HOMICIDIO DOLOSO NA DIRECAO DE VEICULO AUTOMOTOR',\n",
       "       'ROUBO A MOTORISTA COM MORTE', 'ROUBO A RESIDENCIA COM MORTE', nan],\n",
       "      dtype=object)"
      ]
     },
     "execution_count": 4,
     "metadata": {},
     "output_type": "execute_result"
    }
   ],
   "source": [
    "vitimas_mortas.loc[(vitimas_mortas['Sexo'] != 'Masculino'), :]['Descricao Fato'].unique()"
   ]
  },
  {
   "cell_type": "code",
   "execution_count": 5,
   "id": "2b8dcd51",
   "metadata": {},
   "outputs": [
    {
     "data": {
      "text/plain": [
       "array(['RESIDENCIA', 'VIA PUBLICA', 'OUTROS', 'ESTABELECIMENTO COMERCIAL',\n",
       "       'ESTABELECIMENTO DIVERSAO', 'ETABELECIMENTO ENSINO', nan],\n",
       "      dtype=object)"
      ]
     },
     "execution_count": 5,
     "metadata": {},
     "output_type": "execute_result"
    }
   ],
   "source": [
    "vitimas_mortas.loc[(vitimas_mortas['Sexo'] != 'Masculino'), :]['Local Fato'].unique()"
   ]
  },
  {
   "cell_type": "code",
   "execution_count": 6,
   "id": "b1264387",
   "metadata": {},
   "outputs": [
    {
     "data": {
      "text/plain": [
       "array(['FEMINICIDIO ART 121 PAR 2 VI', 'HOMICIDIO DOLOSO',\n",
       "       'LESAO CORPORAL SEGUIDA DE MORTE',\n",
       "       'HOMICIDIO DOLOSO NA DIRECAO DE VEICULO AUTOMOTOR',\n",
       "       'ROUBO A RESIDENCIA COM MORTE',\n",
       "       'HOMICIDIO DECORRENTE DE OPOSICAO A INTERVENCAO POLICIAL'],\n",
       "      dtype=object)"
      ]
     },
     "execution_count": 6,
     "metadata": {},
     "output_type": "execute_result"
    }
   ],
   "source": [
    "vitimas_mortas.loc[(vitimas_mortas['Sexo'] != 'Masculino') & (vitimas_mortas['Local Fato'] == 'RESIDENCIA'), :]['Descricao Fato'].unique()"
   ]
  },
  {
   "cell_type": "code",
   "execution_count": 7,
   "id": "e9d30ffa",
   "metadata": {},
   "outputs": [
    {
     "data": {
      "text/html": [
       "<div>\n",
       "<style scoped>\n",
       "    .dataframe tbody tr th:only-of-type {\n",
       "        vertical-align: middle;\n",
       "    }\n",
       "\n",
       "    .dataframe tbody tr th {\n",
       "        vertical-align: top;\n",
       "    }\n",
       "\n",
       "    .dataframe thead th {\n",
       "        text-align: right;\n",
       "    }\n",
       "</style>\n",
       "<table border=\"1\" class=\"dataframe\">\n",
       "  <thead>\n",
       "    <tr style=\"text-align: right;\">\n",
       "      <th></th>\n",
       "      <th>Data Fato</th>\n",
       "      <th>Descricao Fato</th>\n",
       "      <th>Municipio Fato</th>\n",
       "      <th>Local Fato</th>\n",
       "      <th>Sexo</th>\n",
       "      <th>Idade</th>\n",
       "      <th>Etnia</th>\n",
       "      <th>Orientacao Sexual</th>\n",
       "      <th>Recurso Letal</th>\n",
       "    </tr>\n",
       "  </thead>\n",
       "  <tbody>\n",
       "    <tr>\n",
       "      <th>19</th>\n",
       "      <td>04/01/2024</td>\n",
       "      <td>FEMINICIDIO ART 121 PAR 2 VI</td>\n",
       "      <td>PORTO ALEGRE</td>\n",
       "      <td>RESIDENCIA</td>\n",
       "      <td>Feminino</td>\n",
       "      <td>31.0</td>\n",
       "      <td>Branca</td>\n",
       "      <td>Nao informado</td>\n",
       "      <td>Nao informado</td>\n",
       "    </tr>\n",
       "    <tr>\n",
       "      <th>22</th>\n",
       "      <td>04/01/2024</td>\n",
       "      <td>HOMICIDIO DOLOSO</td>\n",
       "      <td>SAO LEOPOLDO</td>\n",
       "      <td>VIA PUBLICA</td>\n",
       "      <td>Feminino</td>\n",
       "      <td>29.0</td>\n",
       "      <td>Sem informaÆo</td>\n",
       "      <td>Nao informado</td>\n",
       "      <td>Nao informado</td>\n",
       "    </tr>\n",
       "    <tr>\n",
       "      <th>23</th>\n",
       "      <td>05/01/2024</td>\n",
       "      <td>HOMICIDIO DOLOSO</td>\n",
       "      <td>CONDOR</td>\n",
       "      <td>RESIDENCIA</td>\n",
       "      <td>Feminino</td>\n",
       "      <td>65.0</td>\n",
       "      <td>Branca</td>\n",
       "      <td>Nao informado</td>\n",
       "      <td>Nao informado</td>\n",
       "    </tr>\n",
       "    <tr>\n",
       "      <th>25</th>\n",
       "      <td>05/01/2024</td>\n",
       "      <td>ROUBO DE VEICULO COM MORTE</td>\n",
       "      <td>PORTO ALEGRE</td>\n",
       "      <td>VIA PUBLICA</td>\n",
       "      <td>Feminino</td>\n",
       "      <td>49.0</td>\n",
       "      <td>Branca</td>\n",
       "      <td>Nao informado</td>\n",
       "      <td>Nao informado</td>\n",
       "    </tr>\n",
       "    <tr>\n",
       "      <th>32</th>\n",
       "      <td>06/01/2024</td>\n",
       "      <td>HOMICIDIO DOLOSO</td>\n",
       "      <td>PORTO ALEGRE</td>\n",
       "      <td>VIA PUBLICA</td>\n",
       "      <td>Feminino</td>\n",
       "      <td>35.0</td>\n",
       "      <td>Sem informaÆo</td>\n",
       "      <td>Nao informado</td>\n",
       "      <td>Nao informado</td>\n",
       "    </tr>\n",
       "    <tr>\n",
       "      <th>33</th>\n",
       "      <td>06/01/2024</td>\n",
       "      <td>FEMINICIDIO ART 121 PAR 2 VI</td>\n",
       "      <td>OSORIO</td>\n",
       "      <td>RESIDENCIA</td>\n",
       "      <td>Feminino</td>\n",
       "      <td>61.0</td>\n",
       "      <td>Branca</td>\n",
       "      <td>Nao informado</td>\n",
       "      <td>Nao informado</td>\n",
       "    </tr>\n",
       "    <tr>\n",
       "      <th>43</th>\n",
       "      <td>07/01/2024</td>\n",
       "      <td>HOMICIDIO DOLOSO</td>\n",
       "      <td>ARROIO DO TIGRE</td>\n",
       "      <td>VIA PUBLICA</td>\n",
       "      <td>Feminino</td>\n",
       "      <td>49.0</td>\n",
       "      <td>Branca</td>\n",
       "      <td>Nao informado</td>\n",
       "      <td>Nao informado</td>\n",
       "    </tr>\n",
       "    <tr>\n",
       "      <th>47</th>\n",
       "      <td>07/01/2024</td>\n",
       "      <td>HOMICIDIO DOLOSO</td>\n",
       "      <td>PEJUCARA</td>\n",
       "      <td>RESIDENCIA</td>\n",
       "      <td>Feminino</td>\n",
       "      <td>70.0</td>\n",
       "      <td>Branca</td>\n",
       "      <td>Nao informado</td>\n",
       "      <td>Nao informado</td>\n",
       "    </tr>\n",
       "    <tr>\n",
       "      <th>55</th>\n",
       "      <td>09/01/2024</td>\n",
       "      <td>FEMINICIDIO ART 121 PAR 2 VI</td>\n",
       "      <td>RIO GRANDE</td>\n",
       "      <td>RESIDENCIA</td>\n",
       "      <td>Feminino</td>\n",
       "      <td>63.0</td>\n",
       "      <td>Branca</td>\n",
       "      <td>Nao informado</td>\n",
       "      <td>Nao informado</td>\n",
       "    </tr>\n",
       "    <tr>\n",
       "      <th>56</th>\n",
       "      <td>09/01/2024</td>\n",
       "      <td>HOMICIDIO DOLOSO</td>\n",
       "      <td>PASSO FUNDO</td>\n",
       "      <td>VIA PUBLICA</td>\n",
       "      <td>Feminino</td>\n",
       "      <td>30.0</td>\n",
       "      <td>Branca</td>\n",
       "      <td>Nao informado</td>\n",
       "      <td>Nao informado</td>\n",
       "    </tr>\n",
       "  </tbody>\n",
       "</table>\n",
       "</div>"
      ],
      "text/plain": [
       "     Data Fato                Descricao Fato   Municipio Fato   Local Fato  \\\n",
       "19  04/01/2024  FEMINICIDIO ART 121 PAR 2 VI     PORTO ALEGRE   RESIDENCIA   \n",
       "22  04/01/2024              HOMICIDIO DOLOSO     SAO LEOPOLDO  VIA PUBLICA   \n",
       "23  05/01/2024              HOMICIDIO DOLOSO           CONDOR   RESIDENCIA   \n",
       "25  05/01/2024    ROUBO DE VEICULO COM MORTE     PORTO ALEGRE  VIA PUBLICA   \n",
       "32  06/01/2024              HOMICIDIO DOLOSO     PORTO ALEGRE  VIA PUBLICA   \n",
       "33  06/01/2024  FEMINICIDIO ART 121 PAR 2 VI           OSORIO   RESIDENCIA   \n",
       "43  07/01/2024              HOMICIDIO DOLOSO  ARROIO DO TIGRE  VIA PUBLICA   \n",
       "47  07/01/2024              HOMICIDIO DOLOSO         PEJUCARA   RESIDENCIA   \n",
       "55  09/01/2024  FEMINICIDIO ART 121 PAR 2 VI       RIO GRANDE   RESIDENCIA   \n",
       "56  09/01/2024              HOMICIDIO DOLOSO      PASSO FUNDO  VIA PUBLICA   \n",
       "\n",
       "        Sexo  Idade           Etnia Orientacao Sexual   Recurso Letal  \n",
       "19  Feminino   31.0          Branca     Nao informado  Nao informado   \n",
       "22  Feminino   29.0  Sem informaÆo     Nao informado  Nao informado   \n",
       "23  Feminino   65.0          Branca     Nao informado  Nao informado   \n",
       "25  Feminino   49.0          Branca     Nao informado  Nao informado   \n",
       "32  Feminino   35.0  Sem informaÆo     Nao informado  Nao informado   \n",
       "33  Feminino   61.0          Branca     Nao informado  Nao informado   \n",
       "43  Feminino   49.0          Branca     Nao informado  Nao informado   \n",
       "47  Feminino   70.0          Branca     Nao informado  Nao informado   \n",
       "55  Feminino   63.0          Branca     Nao informado  Nao informado   \n",
       "56  Feminino   30.0          Branca     Nao informado  Nao informado   "
      ]
     },
     "execution_count": 7,
     "metadata": {},
     "output_type": "execute_result"
    }
   ],
   "source": [
    "vitimas_mortas.loc[(vitimas_mortas['Sexo'] != 'Masculino'), :].head(10)"
   ]
  },
  {
   "cell_type": "markdown",
   "id": "ea42376b",
   "metadata": {},
   "source": [
    "#### 0.3.1 Unir tabelas"
   ]
  },
  {
   "cell_type": "code",
   "execution_count": null,
   "id": "ddc24eb7",
   "metadata": {},
   "outputs": [],
   "source": []
  },
  {
   "cell_type": "markdown",
   "id": "ed6896f8",
   "metadata": {},
   "source": [
    "#### 0.3.2. Separar o arquivo de teste"
   ]
  },
  {
   "cell_type": "code",
   "execution_count": 114,
   "id": "eb246e3a",
   "metadata": {},
   "outputs": [],
   "source": []
  },
  {
   "cell_type": "markdown",
   "id": "4e922641",
   "metadata": {},
   "source": [
    "## 1. DATA DESCRIPTION"
   ]
  },
  {
   "cell_type": "markdown",
   "id": "d52bd6f8",
   "metadata": {},
   "source": [
    "Impressão da descrição dos dados antes da limpeza (Data Cleaning)"
   ]
  },
  {
   "cell_type": "code",
   "execution_count": 23,
   "id": "3542292e",
   "metadata": {},
   "outputs": [
    {
     "name": "stdout",
     "output_type": "stream",
     "text": [
      "********* Descrição dos dados | ANTES da Limpeza *********\n",
      "******************** DATA DIMENSIONS ********************\n",
      "Quantidade de linhas: 166,150\n",
      "Quantidade de colunas: 13\n",
      "\n",
      "******************** DATA TYPES *************************\n",
      "Sequência               int64\n",
      "Data Fato              object\n",
      "Hora Fato              object\n",
      "Grupo Fato             object\n",
      "Tipo Enquadramento     object\n",
      "Tipo Fato              object\n",
      "Municipio Fato         object\n",
      "Local Fato             object\n",
      "Bairro                 object\n",
      "Quantidade Vítimas      int64\n",
      "Idade Vítima          float64\n",
      "Sexo Vítima            object\n",
      "Cor Vítima             object\n",
      "dtype: object\n",
      "\n",
      "******************** CHECK NAs **************************\n",
      "Sequência                 0\n",
      "Data Fato                 0\n",
      "Hora Fato                 0\n",
      "Grupo Fato                0\n",
      "Tipo Enquadramento        0\n",
      "Tipo Fato                 0\n",
      "Municipio Fato            0\n",
      "Local Fato                0\n",
      "Bairro                33505\n",
      "Quantidade Vítimas        0\n",
      "Idade Vítima          34142\n",
      "Sexo Vítima           34140\n",
      "Cor Vítima            34140\n",
      "dtype: int64\n",
      "\n",
      "******************** CHECK DUPLICATED *******************\n",
      "Quantidade de registros duplicados: 0\n"
     ]
    }
   ],
   "source": [
    "# Descrição dos dados sem modificação\n",
    "print('*' *9 + ' Descrição dos dados | ANTES da Limpeza ' + '*' *9)\n",
    "data_description(mensal_2022_raw)"
   ]
  },
  {
   "cell_type": "code",
   "execution_count": 26,
   "id": "c4bb39c4",
   "metadata": {},
   "outputs": [
    {
     "data": {
      "text/plain": [
       "(599648, 118)"
      ]
     },
     "execution_count": 26,
     "metadata": {},
     "output_type": "execute_result"
    }
   ],
   "source": [
    "mensal_2022_raw.shape"
   ]
  },
  {
   "cell_type": "markdown",
   "id": "df03a31c",
   "metadata": {},
   "source": [
    "## 2. DATA CLEANING"
   ]
  },
  {
   "cell_type": "code",
   "execution_count": null,
   "id": "e9a30509",
   "metadata": {},
   "outputs": [
    {
     "data": {
      "text/html": [
       "<div>\n",
       "<style scoped>\n",
       "    .dataframe tbody tr th:only-of-type {\n",
       "        vertical-align: middle;\n",
       "    }\n",
       "\n",
       "    .dataframe tbody tr th {\n",
       "        vertical-align: top;\n",
       "    }\n",
       "\n",
       "    .dataframe thead th {\n",
       "        text-align: right;\n",
       "    }\n",
       "</style>\n",
       "<table border=\"1\" class=\"dataframe\">\n",
       "  <thead>\n",
       "    <tr style=\"text-align: right;\">\n",
       "      <th></th>\n",
       "      <th>count</th>\n",
       "      <th>mean</th>\n",
       "      <th>std</th>\n",
       "      <th>min</th>\n",
       "      <th>25%</th>\n",
       "      <th>50%</th>\n",
       "      <th>75%</th>\n",
       "      <th>max</th>\n",
       "      <th>range</th>\n",
       "      <th>skew</th>\n",
       "      <th>kurtosis</th>\n",
       "    </tr>\n",
       "  </thead>\n",
       "  <tbody>\n",
       "    <tr>\n",
       "      <th>presenca_do_mosquito</th>\n",
       "      <td>12014.0</td>\n",
       "      <td>284349.729982</td>\n",
       "      <td>266875.901542</td>\n",
       "      <td>1023.000000</td>\n",
       "      <td>63482.500000</td>\n",
       "      <td>198877.500000</td>\n",
       "      <td>441652.750000</td>\n",
       "      <td>999530.000000</td>\n",
       "      <td>998507.000000</td>\n",
       "      <td>0.985570</td>\n",
       "      <td>-0.047416</td>\n",
       "    </tr>\n",
       "    <tr>\n",
       "      <th>precipitacao</th>\n",
       "      <td>12014.0</td>\n",
       "      <td>84.719611</td>\n",
       "      <td>78.658596</td>\n",
       "      <td>0.009322</td>\n",
       "      <td>27.641255</td>\n",
       "      <td>54.219501</td>\n",
       "      <td>108.675195</td>\n",
       "      <td>299.966579</td>\n",
       "      <td>299.957257</td>\n",
       "      <td>1.227657</td>\n",
       "      <td>0.390643</td>\n",
       "    </tr>\n",
       "    <tr>\n",
       "      <th>umidade</th>\n",
       "      <td>12014.0</td>\n",
       "      <td>65.983371</td>\n",
       "      <td>12.898242</td>\n",
       "      <td>40.005175</td>\n",
       "      <td>56.531511</td>\n",
       "      <td>65.381181</td>\n",
       "      <td>74.727422</td>\n",
       "      <td>94.995987</td>\n",
       "      <td>54.990812</td>\n",
       "      <td>0.195917</td>\n",
       "      <td>-0.527853</td>\n",
       "    </tr>\n",
       "    <tr>\n",
       "      <th>temperatura</th>\n",
       "      <td>12014.0</td>\n",
       "      <td>25.229748</td>\n",
       "      <td>5.303861</td>\n",
       "      <td>14.003989</td>\n",
       "      <td>21.564519</td>\n",
       "      <td>24.931640</td>\n",
       "      <td>28.577283</td>\n",
       "      <td>37.991244</td>\n",
       "      <td>23.987255</td>\n",
       "      <td>0.242829</td>\n",
       "      <td>-0.255163</td>\n",
       "    </tr>\n",
       "  </tbody>\n",
       "</table>\n",
       "</div>"
      ],
      "text/plain": [
       "                        count           mean            std          min  \\\n",
       "presenca_do_mosquito  12014.0  284349.729982  266875.901542  1023.000000   \n",
       "precipitacao          12014.0      84.719611      78.658596     0.009322   \n",
       "umidade               12014.0      65.983371      12.898242    40.005175   \n",
       "temperatura           12014.0      25.229748       5.303861    14.003989   \n",
       "\n",
       "                               25%            50%            75%  \\\n",
       "presenca_do_mosquito  63482.500000  198877.500000  441652.750000   \n",
       "precipitacao             27.641255      54.219501     108.675195   \n",
       "umidade                  56.531511      65.381181      74.727422   \n",
       "temperatura              21.564519      24.931640      28.577283   \n",
       "\n",
       "                                max          range      skew  kurtosis  \n",
       "presenca_do_mosquito  999530.000000  998507.000000  0.985570 -0.047416  \n",
       "precipitacao             299.966579     299.957257  1.227657  0.390643  \n",
       "umidade                   94.995987      54.990812  0.195917 -0.527853  \n",
       "temperatura               37.991244      23.987255  0.242829 -0.255163  "
      ]
     },
     "execution_count": 122,
     "metadata": {},
     "output_type": "execute_result"
    }
   ],
   "source": [
    "# Selecionar apenas Porto Alegre e Canoas\n"
   ]
  },
  {
   "cell_type": "markdown",
   "id": "47fa8bc6",
   "metadata": {},
   "source": [
    "## 3. FEATURE ENGINEERING"
   ]
  },
  {
   "cell_type": "markdown",
   "id": "012c08ce",
   "metadata": {},
   "source": [
    "1. **Violência física**: Entendida como qualquer conduta que **ofenda a integridade ou saúde corporal** da mulher.\n",
    "   - Espancamento\n",
    "   - Atirar objetos, sacudir e apertar os braços\n",
    "   - Estrangulamento ou sufocamento\n",
    "   - Lesões com objetos cortantes ou perfurantes\n",
    "   - Ferimentos causados por queimaduras ou armas de fogo\n",
    "   - Tortura\n",
    "2. **Violência Psicológica**: É considerada qualquer conduta que: cause dano emocional e diminuição da autoestima; prejudique e perturbe o pleno desenvolvimento da mulher; ou vise degradar ou controlar suas ações, comportamentos, crenças e decisões.\n",
    "   - Ameaças\n",
    "   - Constrangimento\n",
    "   - Humilhação\n",
    "   - Manipulação\n",
    "   - Isolamento (proibir de estudar e viajar ou de falar com amigos e parentes)\n",
    "   - Vigilância constante\n",
    "   - Perseguição contumaz\n",
    "   - Insultos\n",
    "   - Chantagem\n",
    "   - Exploração\n",
    "   - Limitação do direito de ir e vir\n",
    "   - Ridicularização\n",
    "   - Tirar a liberdade de crença\n",
    "   - Distorcer e omitir fatos para deixar a mulher em dúvida sobre a sua memória e sanidade (gaslighting)\n",
    "3. **Violência Sexual**: Trata-se de qualquer conduta que constranja a presenciar, a manter ou a participar de relação sexual não desejada mediante intimidação, ameaça, coação ou uso da força.\n",
    "   - Estupro\n",
    "   - Obrigar a mulher a fazer atos sexuais que causam desconforto ou repulsa\n",
    "   - Impedir o uso de métodos contraceptivos ou forçar a mulher a abortar\n",
    "   - Forçar matrimônio, gravidez ou prostituição por meio de coação, chantagem, suborno ou manipulação\n",
    "   - Limitar ou anular o exercício dos direitos sexuais e reprodutivos da mulher\n",
    "4. **Violência Patrimonial**: Entendida como qualquer conduta que configure retenção, subtração, destruição parcial ou total de seus objetos, instrumentos de trabalho, documentos pessoais, bens, valores e direitos ou recursos econômicos, incluindo os destinados a satisfazer suas necessidades.\n",
    "   - Controlar o dinheiro\n",
    "   - Deixar de pagar pensão alimentícia\n",
    "   - Destruição de documentos pessoais\n",
    "   - Furto, extorsão ou dano\n",
    "   - Estelionato\n",
    "   - Privar de bens, valores ou recursos econômicos\n",
    "   - Causar danos propositais a objetos da mulher ou dos quais ela goste\n",
    "5. **Violência Moral**: É considerada qualquer conduta que configure calúnia, difamação ou injúria.\n",
    "   - Acusar a mulher de traição\n",
    "   - Emitir juízos morais sobre a conduta\n",
    "   - Fazer críticas mentirosas\n",
    "   - Expor a vida íntima\n",
    "   - Rebaixar a mulher por meio de xingamentos que incidem sobre a sua índole\n",
    "   - Desvalorizar a vítima pelo seu modo de se vestir"
   ]
  },
  {
   "cell_type": "code",
   "execution_count": 24,
   "id": "840fad34",
   "metadata": {},
   "outputs": [
    {
     "data": {
      "text/plain": [
       "array(['VIOLENCIA PSICOLOGICA CONTRA MULHER ART 147B',\n",
       "       'FURTO SIMPLES EM RESIDENCIA', 'IMPORTUNACAO SEXUAL',\n",
       "       'OUTRAS FRAUDES', 'FURTO DE VEICULO',\n",
       "       'FURTO/ARROMBAMENTO DE RESIDENCIA', 'ESTELIONATO',\n",
       "       'ENTORPECENTES - TRAFICO', 'EXTORSAO', 'FURTO DE TELEFONE CELULAR',\n",
       "       'INJURIA', 'LESAO CORPORAL', 'DENUNCIACAO CALUNIOSA',\n",
       "       'FURTO DE FIOS E CABOS', 'CRUELDADE CONTRA ANIMAIS',\n",
       "       'OUTROS CRIMES', 'DIFAMACAO', 'ROUBO A PEDESTRE',\n",
       "       'EMBRIAGUEZ - ART. 306',\n",
       "       'PERTURBACAO DO TRABALHO OU DO SOSSEGO ALHEIOS', 'AMEACA',\n",
       "       'ROUBO A PEDESTRE COM LESOES', 'OUTROS FURTOS', 'DESACATO',\n",
       "       'VIAS DE FATO', 'LESAO CORPORAL CULPOSA DIRECAO VEIC AUTOMOTOR',\n",
       "       'DANO', 'FURTO QUALIFICADO', 'ENTORPECENTES  POSSE',\n",
       "       'FURTO EM VEICULO - ESTEPE',\n",
       "       'PERMITIR,CONFIAR,OU ENTREG. DIRECAO A PESSOA S/HABIL.ART 310',\n",
       "       'FURTO DE DOCUMENTO',\n",
       "       'FURTO/ARROMBAMENTO ESTABELECIMENTO COMERCIAL', 'RECEPTACAO',\n",
       "       'FUGA DE LOCAL DE ACIDENTE - ART. 305',\n",
       "       'DESCUMPRIMENTO DE MEDIDA PROTETIVA DE URGENCIA',\n",
       "       'FURTO/ARROMBAMENTO A ESTABELECIMENTO DE ENSINO', 'DESOBEDIENCIA',\n",
       "       'SUBTRACAO DE INCAPAZ', 'FURTO EM VEICULO',\n",
       "       'ROUBO DE TELEFONE CELULAR',\n",
       "       'POSSE IRREGULAR DE ARMA DE FOGO DE USO PERMITIDO',\n",
       "       'DANO QUALIFICADO', 'INVASAO DE DISPOSITIVO INFORMATICO',\n",
       "       'CRIMES CONTRA A FLORA', 'RESISTENCIA', 'ROUBO DE DOCUMENTO',\n",
       "       'ATO OBSCENO', 'INCENDIO DOLOSO', 'CALUNIA',\n",
       "       'DIRIGIR SEM HABILITACAO GERANDO PERIGO DE DANO ART. 309',\n",
       "       'FURTO DE CARGA EM CAMINHAO', 'PERSEGUICAO', 'MAUS TRATOS',\n",
       "       'CRIMES CONTRA A FAUNA', 'APROPRIACAO INDEBITA',\n",
       "       'OUTROS CRIMES CONTRA O IDOSO', 'ESTUPRO', 'ESBULHO POSSESSORIO',\n",
       "       'ESTUPRO DE VULNERAVEL', 'MAUS TRATOS CONTRA O IDOSO',\n",
       "       'EXERCICIO ARBITRARIO PROPRIAS RAZOES',\n",
       "       'OUTROS CRIMES CONTRA MEIO AMBIENTE', 'FURTO ABIGEATO',\n",
       "       'INJURIA DISCRIMINATORIA', 'ABANDONO DE INCAPAZ',\n",
       "       'FALSA IDENTIDADE', 'EXERCICIO ARBITRARIO OU ABUSO DE PODER',\n",
       "       'OMISSAO DE CAUTELA NA GUARDA OU CONDUCAO DE ANIMAIS',\n",
       "       'ROUBO DE VEICULO',\n",
       "       'ADULTERACAO DE SINAL IDENTIFICADOR DE VEICULO AUTOMOTOR',\n",
       "       'CRIME DE POLUICAO E OUTROS CRIMES AMBIENTAIS',\n",
       "       'ORGANIZACAO CRIMINOSA ART 2 DA LEI 12850 DE 2013',\n",
       "       'OUTROS CRIMES CONTRA A CRIANCA/ADOLESCENTE',\n",
       "       'APROPRIACAO INDEBITA DE BEM DE IDOSO', 'INCITACAO AO CRIME',\n",
       "       'FALSIDADE IDEOLOGICA', 'ASSEDIO SEXUAL',\n",
       "       'VIOLACAO DE CORRESPONDENCIA', 'VIOLACAO DE DOMICILIO',\n",
       "       'PORTE ILEGAL DE ARMA DE FOGO DE USO PERMITIDO',\n",
       "       'OUTROS CRIMES CONTRA RELACAO DE CONSUMO EOU ECONOMIA POPULAR',\n",
       "       'APROPRIACAO COISA HAVIDA POR ERRO CASO FORTUITO OU FORCA DA NATUREZA',\n",
       "       'ROUBO A ESTABELECIMENTO COMERCIAL',\n",
       "       'DIRECAO PERIGOSA (RACHA) ART 308', 'USO DE DOCUMENTO FALSO',\n",
       "       'FAVORECIMENTO REAL',\n",
       "       'OUTROS CRIMES CONTRA A ADMINISTRACAO PUBLICA',\n",
       "       'ROUBO A PASSAGEIRO TRANSP. COLETIVO E LOTACAO',\n",
       "       'COACAO NO CURSO DO PROCESSO', 'ROUBO A TRANSPORTE COLETIVO',\n",
       "       'FALSO TESTEMUNHO OU FALSA PERICIA', 'APROPRIACAO DE COISA ACHADA',\n",
       "       'LESAO CORPORAL CULPOSA', 'ROUBO A RESIDENCIA',\n",
       "       'LESAO CORPORAL LEVE',\n",
       "       'CONSTRANGIMENTO ILEGAL DE CRIANCA E ADOLESCENTE',\n",
       "       'PERIGO A VIDA/SAUDE DE OUTREM',\n",
       "       'FALSIFICACAO DE PAPEIS/DOCUMENTOS PUBLICOS',\n",
       "       'VIOLAR A SUSPENSAO OU PROIBICAO DE DIRIGIR VEICULO ART.307',\n",
       "       'FURTO/ARROMBAMENTO',\n",
       "       'OUTROS CRIMES QUE GERAM TERMOS CIRCUNSTANCIADOS',\n",
       "       'DIVULGACAO DE CENA DE ESTUPRO DE SEXO OU DE PORNOGRAFIA',\n",
       "       'ABUSO DE INCAPAZ', 'DISPARO DE ARMA DE FOGO',\n",
       "       'POSSE OU PORTE ILEGAL DE ARMA DE FOGO DE USO RESTRITO',\n",
       "       'INJURIA QUALIFICADA  RACA COR ETNIA RELIGIAO OU ORIGEM',\n",
       "       'TRAFEGAR COM VELOCIDADE INCOMPATIVEL COM A SEGURANCA ART.311',\n",
       "       'JOGOS DE AZAR', 'OUTROS CRIMES CONTRA A INCULUMIDADE PUBLICA',\n",
       "       'HOMICIDIO CULPOSO DIRECAO VEIC AUTOMOTOR', 'PORTE ARMA BRANCA',\n",
       "       'OUTROS ROUBOS', 'SEQUESTRO E CARCERE PRIVADO',\n",
       "       'RECEPTACAO DE VEICULO', 'FEMINICIDIO ART 121 PAR 2 VI',\n",
       "       'PRECONCEITO RACA COR', 'ABANDONO MATERIAL',\n",
       "       'VIOLACAO DE SEPULTURA',\n",
       "       'CRIME CONTRA O SENTIMENTO RELIGIOSO E RESPEITO AOS MORTOS',\n",
       "       'RECEPTACAO CULPOSA', 'LESAO CORPORAL GRAVE',\n",
       "       'SERVIR BEBIDA ALCOOLICA A VULNERAVEIS',\n",
       "       'ENTORPECENTE  ASSOCIACAO', 'ROUBO DE VEICULO COM LESOES',\n",
       "       'INCENDIO CULPOSO', 'ROUBO A MOTORISTA DE TAXI',\n",
       "       'EXERCICIO ILEGAL DA PROFISSAO',\n",
       "       'ASSOCIACAO CRIMINOSA ART 288 DO CP', 'LESAO CORPORAL GRAVISSIMA',\n",
       "       'COMUNICACAO FALSA DE CRIME OU CONTRAVENCAO', 'HOMICIDIO DOLOSO',\n",
       "       'PICHAR OU POR OUTRO MEIO CONSPURCAR EDIFICACAO OU MONUMENTO URBANO',\n",
       "       'ALTERACAO LIMITES DIVISORIOS',\n",
       "       'INFRACAO DE MEDIDA SANITARIA PREVENTIVA',\n",
       "       'POSSE OU PORTE ILEGAL DE ARMA DE FOGO DE USO PROIBIDO',\n",
       "       'FURTO/ARROMBAMENTO ESTABELECIMENTO BANCARIO', 'ABANDONO DE IDOSO',\n",
       "       'PORNOGRAFIA INFANTO-JUVENIL',\n",
       "       'FALSIFICACAO DE DOCUMENTOS PARTICULARES',\n",
       "       'FACILITACAO DE CONTRABANDO OU DESCAMINHO',\n",
       "       'INDUZIMENTO INSTIGAO AUXILIO AO SUICIDIO OU A AUTOMULTILAO',\n",
       "       'CONSTRANGIMENTO ILEGAL', 'OUTROS CRIMES CONTRA A FE PUBLICA',\n",
       "       'FURTO DE COISA COMUM ART 156  SUBTRAIR O CONDOMINO COHERDEIRO OU SOCIO PARA SI OU PARA OUTREM A QUEM LEGITIMAMENTE A DETEM A COISA COMUM',\n",
       "       'FURTO DE ARMA', 'CRIMES DE ABUSO DE AUTORIDADE',\n",
       "       'OUTROS CRIMES CONTRA O PATRIMONIO', 'ABORTO',\n",
       "       'HOMOFOBIA TRANSFOBIA', 'PREVARICACAO', 'ROUBO A CASA LOTERICA',\n",
       "       'CRIME CONTRA A ORDEM TRIBUTARIA - LEI 8137/90',\n",
       "       'EXTORSAO MEDIANTE SEQUESTRO',\n",
       "       'CRIMES DE LAVAGEM OU OCULTACAO DE BENS DIREITOS E VALORES LEI 9613 DE 3 DE MARCO DE 1998',\n",
       "       'ROUBO COM LESOES', 'CRIME ELEITORAL',\n",
       "       'ROUBO A JOALHERIAS E OTICAS', 'VIOLACAO SEXUAL MEDIANTE FRAUDE',\n",
       "       'CORRUPCAO ATIVA', 'RECEPTACAO QUALIFICADA',\n",
       "       'CONDICIONAMENTO DE ATENDIMENTO MEDICO HOSPITALAR EMERGENCIAL',\n",
       "       'CURANDERISMO', 'CORRUPCAO DE MENORES', 'SEQUESTRO RELAMPAGO',\n",
       "       'FURTO DE DEFENSIVO AGRICOLA',\n",
       "       'FAVORECIMENTO DA PROSTITUICAO OU DE OUTRA FORMA DE EXPLORACAO SEXUAL DE CRIANCA OU ADOLESCENTE OU DE VULNERAVEL',\n",
       "       'FORNECER PRODUTOS CRIANCA/ADOLESCENTE QUE CAUSAM DEPENDENCIA',\n",
       "       'PROMOVER TUMULTO PRATICAR OU INCITAR A VIOLENCIA OU INVADIR LOCAL RESTRITO AOS COMPETIDORES EM EVENTOS ESPORTIVOS  ART 41 B',\n",
       "       'ROUBO A ESTABELECIMENTO COMERCIAL COM LESOES',\n",
       "       'ABANDONO INTELECTUAL', 'ROUBO A RESIDENCIA COM LESOES',\n",
       "       'COMERCIO ILEGAL DE ARMA DE FOGO', 'CONCUSSAO',\n",
       "       'EXPLORACAO SEXUAL INFANTO-JUVENIL',\n",
       "       'CRIME CONTRA A ADMINISTRACAO AMBIENTAL',\n",
       "       'DISPOR COISA ALHEIA COMO PROPRIA',\n",
       "       'LESAO CORPORAL SEGUIDA DE MORTE',\n",
       "       'EXTRAVIO SONEGACAO OU INUTILIZACAO DE LIVRO OU DOCUMENTO',\n",
       "       'CRIMES DE TORTURA   LEI 9455 DE 1997',\n",
       "       'CONDUTAS RELAC. A PEDOFILIA NA INTERNET E OTR MEIOS DE COMUNIC.',\n",
       "       'ROUBO A MOTORISTA PARTICULAR',\n",
       "       'CRIME CONTRA O ORDENAMENTO URBANO E PATRIMONIO CULTURAL',\n",
       "       'OMISSAO DE SOCORRO  ART 304 DO CTB',\n",
       "       'RECUSA DE DADOS SOBRE A PROPRIA IDENTIFICACAO OU QUALIFICACAO',\n",
       "       'HOMICIDIO CULPOSO', 'VILIPENDIO A CADAVER',\n",
       "       'ARREMESSO DE PROJETIL  ART 264 CP', 'OMISSAO CAUTELA ARMA FOGO',\n",
       "       'FRAUDE NO COMERCIO', 'ROUBO A ESTABELEC. DE ENSINO',\n",
       "       'ROUBO A PEDESTRE ESCOLAR', 'FAVORECIMENTO PESSOAL',\n",
       "       'ROUBO A MOTORISTA DE CARRO ENTREGAS',\n",
       "       'FRAUDE NO PAGAMENTO POR MEIO DE CHEQUE',\n",
       "       'VIOLACAO DE SIGILO FUNCIONAL',\n",
       "       'OMISSAO DE SOCORRO CONTRA O IDOSO',\n",
       "       'LESAO CORPORAL DECORRENTE DE OPOSICAO A INTERVENCAO POLICIAL',\n",
       "       'SATISFACAO DE LASCIVIA MEDIANTE PRESENCA DE CRIANCA OU ADOLESCENTE',\n",
       "       'CONDUTO INCONVENIENTE',\n",
       "       'MEDIACAO PARA SERVIR A LASCIVIA DE OUTREM', 'RIXA',\n",
       "       'ROUBO A ESTABELECIMENTO BANCARIO',\n",
       "       'OUTROS CRIMES CONTRA O SENTIMENTO RELIGIOSO',\n",
       "       'OUTROS CRIMES CONTRA A ORGANIZACAO DO TRABALHO',\n",
       "       'OUTROS CRIMES CONTRA A FAMILIA',\n",
       "       'ATENTADO CONTRA SEGURANCA SERV UTILIDADE PUBLICA',\n",
       "       'CORRUPCAO PASSIVA', 'CHARLATANISMO', 'PECULATO',\n",
       "       'AFIRMACAO ENGANOSA SOBRE PRODUTO', 'OMISSAO SOCORRO ART 135 CP',\n",
       "       'HOMICIDIO DOLOSO NA DIRECAO DE VEICULO AUTOMOTOR',\n",
       "       'ROUBO DE ARMA', 'VIOLACAO DE DIREITO AUTORAL (PLAGIO)',\n",
       "       'HOMICIDIO DECORRENTE DE OPOSICAO A INTERVENCAO POLICIAL',\n",
       "       'REDUCAO A CONDICAO ANALOGA A DE ESCRAVO',\n",
       "       'ROUBO A MOTORISTA DE CARGA DE CAMINHAO',\n",
       "       'PRECONCEITO DEFICIENCIA', 'ROUBO A MOTORISTA COM LESOES',\n",
       "       'CRIMES CONTRA O SISTEMA FINANCEIRO - LEI 7492/86',\n",
       "       'PRECONCEITO RELIGIAO',\n",
       "       'OUTROS CRIMES CONTRA A LIBERDADE INDIVIDUAL',\n",
       "       'CASA DE PROSTITUICAO', 'RECEPTACAO DE ANIMAL',\n",
       "       'PRECONCEITO ETNIA PROCEDENCIA NACIONAL', 'ROUBO COM MORTE',\n",
       "       'TRAFICO INTERNACIONAL DE ARMA DE FOGO', 'CONCORRENCIA DESLEAL',\n",
       "       'FORNECER ARMA, MUNICAO, EXPLOSIVO A CRIANCA/ADOLESCENTE',\n",
       "       'ROUBO A RESIDENCIA COM MORTE', 'FRAUDE A CREDORES',\n",
       "       'FABRICO COMERCIO OU DENTENCAO DE ARMA BRANCA OU MUNICAO',\n",
       "       'ROUBO A MOTORISTA DE LOTACAO',\n",
       "       'DESTRUICAO, SUBTRACAO OU OCULTACAO DE CADAVER',\n",
       "       'ATIVIDADE(S) COM RISCOS A SEGURANCA', 'MOTIM DE PRESOS',\n",
       "       'NEGAR INFORMACOES AO CONSUMIDOR', 'DISCRIMINACAO CONTRA O IDOSO',\n",
       "       'ATIVIDADE CLANDESTINA DE TELECOMUNICACOES'], dtype=object)"
      ]
     },
     "execution_count": 24,
     "metadata": {},
     "output_type": "execute_result"
    }
   ],
   "source": [
    "op_2021.loc[op_2021['Sexo Vítima'] != 'Masculino', :]['Tipo Enquadramento'].unique()"
   ]
  },
  {
   "cell_type": "code",
   "execution_count": 125,
   "id": "909ae315",
   "metadata": {},
   "outputs": [
    {
     "data": {
      "text/html": [
       "<div>\n",
       "<style scoped>\n",
       "    .dataframe tbody tr th:only-of-type {\n",
       "        vertical-align: middle;\n",
       "    }\n",
       "\n",
       "    .dataframe tbody tr th {\n",
       "        vertical-align: top;\n",
       "    }\n",
       "\n",
       "    .dataframe thead th {\n",
       "        text-align: right;\n",
       "    }\n",
       "</style>\n",
       "<table border=\"1\" class=\"dataframe\">\n",
       "  <thead>\n",
       "    <tr style=\"text-align: right;\">\n",
       "      <th></th>\n",
       "      <th>casos_de_dengue</th>\n",
       "      <th>date</th>\n",
       "      <th>presenca_do_mosquito</th>\n",
       "      <th>precipitacao</th>\n",
       "      <th>umidade</th>\n",
       "      <th>temperatura</th>\n",
       "      <th>status</th>\n",
       "      <th>mes</th>\n",
       "      <th>semana_do_ano</th>\n",
       "      <th>proliferacao</th>\n",
       "      <th>outlier</th>\n",
       "    </tr>\n",
       "  </thead>\n",
       "  <tbody>\n",
       "    <tr>\n",
       "      <th>0</th>\n",
       "      <td>270499</td>\n",
       "      <td>1987-01-01</td>\n",
       "      <td>874324</td>\n",
       "      <td>168.814638</td>\n",
       "      <td>88.117339</td>\n",
       "      <td>37.113825</td>\n",
       "      <td>parcialmente conscientizada</td>\n",
       "      <td>1</td>\n",
       "      <td>1</td>\n",
       "      <td>high</td>\n",
       "      <td>none</td>\n",
       "    </tr>\n",
       "    <tr>\n",
       "      <th>1</th>\n",
       "      <td>279224</td>\n",
       "      <td>1987-01-02</td>\n",
       "      <td>869290</td>\n",
       "      <td>148.661492</td>\n",
       "      <td>61.232582</td>\n",
       "      <td>29.596003</td>\n",
       "      <td>parcialmente conscientizada</td>\n",
       "      <td>1</td>\n",
       "      <td>1</td>\n",
       "      <td>high</td>\n",
       "      <td>none</td>\n",
       "    </tr>\n",
       "    <tr>\n",
       "      <th>2</th>\n",
       "      <td>221681</td>\n",
       "      <td>1987-01-03</td>\n",
       "      <td>880145</td>\n",
       "      <td>267.744475</td>\n",
       "      <td>79.160989</td>\n",
       "      <td>26.844099</td>\n",
       "      <td>none</td>\n",
       "      <td>1</td>\n",
       "      <td>1</td>\n",
       "      <td>high</td>\n",
       "      <td>none</td>\n",
       "    </tr>\n",
       "    <tr>\n",
       "      <th>3</th>\n",
       "      <td>76197</td>\n",
       "      <td>1987-01-04</td>\n",
       "      <td>295600</td>\n",
       "      <td>162.011169</td>\n",
       "      <td>79.160989</td>\n",
       "      <td>29.870342</td>\n",
       "      <td>parcialmente conscientizada</td>\n",
       "      <td>1</td>\n",
       "      <td>1</td>\n",
       "      <td>high</td>\n",
       "      <td>none</td>\n",
       "    </tr>\n",
       "    <tr>\n",
       "      <th>4</th>\n",
       "      <td>94530</td>\n",
       "      <td>1987-01-05</td>\n",
       "      <td>681702</td>\n",
       "      <td>278.151803</td>\n",
       "      <td>77.434816</td>\n",
       "      <td>29.418697</td>\n",
       "      <td>parcialmente conscientizada</td>\n",
       "      <td>1</td>\n",
       "      <td>2</td>\n",
       "      <td>high</td>\n",
       "      <td>none</td>\n",
       "    </tr>\n",
       "  </tbody>\n",
       "</table>\n",
       "</div>"
      ],
      "text/plain": [
       "   casos_de_dengue       date  presenca_do_mosquito  precipitacao    umidade  \\\n",
       "0           270499 1987-01-01                874324    168.814638  88.117339   \n",
       "1           279224 1987-01-02                869290    148.661492  61.232582   \n",
       "2           221681 1987-01-03                880145    267.744475  79.160989   \n",
       "3            76197 1987-01-04                295600    162.011169  79.160989   \n",
       "4            94530 1987-01-05                681702    278.151803  77.434816   \n",
       "\n",
       "   temperatura                       status  mes  semana_do_ano proliferacao  \\\n",
       "0    37.113825  parcialmente conscientizada    1              1         high   \n",
       "1    29.596003  parcialmente conscientizada    1              1         high   \n",
       "2    26.844099                         none    1              1         high   \n",
       "3    29.870342  parcialmente conscientizada    1              1         high   \n",
       "4    29.418697  parcialmente conscientizada    1              2         high   \n",
       "\n",
       "  outlier  \n",
       "0    none  \n",
       "1    none  \n",
       "2    none  \n",
       "3    none  \n",
       "4    none  "
      ]
     },
     "execution_count": 125,
     "metadata": {},
     "output_type": "execute_result"
    }
   ],
   "source": [
    "# Classificação dos crimes\n",
    "\n",
    "violencia_fisica = [\n",
    "    'LESAO CORPORAL', \n",
    "    'LESAO CORPORAL LEVE', 'LESAO CORPORAL GRAVE', \n",
    "    'LESAO CORPORAL SEGUIDA DE MORTE', 'LESAO CORPORAL GRAVISSIMA', \n",
    "    'HOMICIDIO CULPOSO',\n",
    "    'HOMICIDIO DOLOSO', 'HOMICIDIO DOLOSO NA DIRECAO DE VEICULO AUTOMOTOR', \n",
    "    'HOMICIDIO DECORRENTE DE OPOSICAO A INTERVENCAO POLICIAL', \n",
    "    'FEMINICIDIO ART 121 PAR 2 VI', 'SEQUESTRO E CARCERE PRIVADO', \n",
    "    'ROUBO COM MORTE', 'ROUBO A RESIDENCIA COM MORTE', \n",
    "    'VIAS DE FATO', 'DANO QUALIFICADO',\n",
    "    'ROUBO A PEDESTRE COM LESOES', 'LESAO CORPORAL CULPOSA', \n",
    "    'CONSTRANGIMENTO ILEGAL DE CRIANCA E ADOLESCENTE', \n",
    "    'PERIGO A VIDA/SAUDE DE OUTREM', 'DISPARO DE ARMA DE FOGO', \n",
    "    'ROUBO DE VEICULO COM LESOES', 'ROUBO A MOTORISTA DE TAXI', \n",
    "    'SEQUESTRO RELAMPAGO', 'CRIMES DE TORTURA   LEI 9455 DE 1997',\n",
    "    'OMISSAO DE SOCORRO  ART 304 DO CTB', \n",
    "    'OMISSAO DE SOCORRO CONTRA O IDOSO', 'ROUBO A MOTORISTA DE CARGA DE CAMINHAO', \n",
    "    'ROUBO A MOTORISTA COM LESOES', 'DESTRUICAO, SUBTRACAO OU OCULTACAO DE CADAVER',\n",
    "    'ROUBO COM LESOES', 'ROUBO A ESTABELEC. DE ENSINO',\n",
    "    'LESAO CORPORAL CULPOSA DIRECAO VEIC AUTOMOTOR', \n",
    "    'LESAO CORPORAL DECORRENTE DE OPOSICAO A INTERVENCAO POLICIAL', \n",
    "    'HOMICIDIO CULPOSO DIRECAO VEIC AUTOMOTOR'\n",
    "]\n",
    "\n",
    "violencia_psicologica = [\n",
    "    'VIOLENCIA PSICOLOGICA CONTRA MULHER ART 147B', 'AMEACA', \n",
    "    'PERSEGUICAO', 'INJURIA DISCRIMINATORIA', \n",
    "    'INJURIA QUALIFICADA  RACA COR ETNIA RELIGIAO OU ORIGEM',\n",
    "    'DISCRIMINACAO CONTRA O IDOSO',\n",
    "    'INDUZIMENTO INSTIGAO AUXILIO AO SUICIDIO OU A AUTOMULTILAO'\n",
    "]\n",
    "\n",
    "violencia_sexual = [\n",
    "    'IMPORTUNACAO SEXUAL', 'ESTUPRO', 'ESTUPRO DE VULNERAVEL', \n",
    "    'VIOLACAO SEXUAL MEDIANTE FRAUDE', \n",
    "    'FAVORECIMENTO DA PROSTITUICAO OU DE OUTRA FORMA DE EXPLORACAO SEXUAL DE CRIANCA OU ADOLESCENTE OU DE VULNERAVEL', \n",
    "    'EXPLORACAO SEXUAL INFANTO-JUVENIL', 'CONDUTAS RELAC. A PEDOFILIA NA INTERNET E OTR MEIOS DE COMUNIC.', \n",
    "    'DIVULGACAO DE CENA DE ESTUPRO DE SEXO OU DE PORNOGRAFIA', \n",
    "    'SATISFACAO DE LASCIVIA MEDIANTE PRESENCA DE CRIANCA OU ADOLESCENTE', \n",
    "    'MEDIACAO PARA SERVIR A LASCIVIA DE OUTREM',\n",
    "    'ASSEDIO SEXUAL', 'PORNOGRAFIA INFANTO-JUVENIL', \n",
    "    'FORNECER PRODUTOS CRIANCA/ADOLESCENTE QUE CAUSAM DEPENDENCIA'\n",
    "]\n",
    "\n",
    "violencia_patrimonial = [\n",
    "    'FURTO SIMPLES EM RESIDENCIA', 'FURTO DE VEICULO', \n",
    "    'FURTO/ARROMBAMENTO DE RESIDENCIA', 'ESTELIONATO', \n",
    "    'FURTO DE TELEFONE CELULAR', 'FURTO DE FIOS E CABOS', \n",
    "    'FURTO QUALIFICADO', 'FURTO EM VEICULO - ESTEPE', \n",
    "    'FURTO DE DOCUMENTO', 'FURTO/ARROMBAMENTO ESTABELECIMENTO COMERCIAL', \n",
    "    'RECEPTACAO', 'RECEPTACAO DE VEICULO', 'ROUBO A PEDESTRE', \n",
    "    'ROUBO A RESIDENCIA', 'ROUBO DE VEICULO', \n",
    "    'ROUBO A ESTABELECIMENTO COMERCIAL', 'FURTO ABIGEATO', \n",
    "    'FURTO DE COISA COMUM ART 156  SUBTRAIR O CONDOMINO COHERDEIRO OU SOCIO PARA SI OU PARA OUTREM A QUEM LEGITIMAMENTE A DETEM A COISA COMUM', \n",
    "    'FURTO DE ARMA', 'FURTO EM VEICULO', 'ROUBO A ESTABELECIMENTO COMERCIAL COM LESOES', \n",
    "    'ROUBO A RESIDENCIA COM LESOES', 'RECEPTACAO QUALIFICADA',\n",
    "    'ROUBO DE TELEFONE CELULAR', 'ROUBO DE DOCUMENTO', \n",
    "    'FURTO DE CARGA EM CAMINHAO', 'APROPRIACAO INDEBITA DE BEM DE IDOSO', \n",
    "    'FURTO/ARROMBAMENTO', 'OUTROS FURTOS', 'ROUBO A PASSAGEIRO TRANSP. COLETIVO E LOTACAO', \n",
    "    'ROUBO A TRANSPORTE COLETIVO', 'RECEPTACAO CULPOSA', \n",
    "    'ROUBO A CASA LOTERICA', 'ROUBO A JOALHERIAS E OTICAS', \n",
    "    'FURTO DE DEFENSIVO AGRICOLA', 'FRAUDE NO COMERCIO', \n",
    "    'ROUBO A ESTABELECIMENTO BANCARIO', 'ROUBO DE ARMA', \n",
    "    'ROUBO A MOTORISTA DE CARRO ENTREGAS', 'FRAUDE NO PAGAMENTO POR MEIO DE CHEQUE', \n",
    "    'ROUBO A PEDESTRE ESCOLAR', \n",
    "    'RECEPTACAO DE ANIMAL', 'FRAUDE A CREDORES', \n",
    "    'ROUBO A MOTORISTA DE LOTACAO'\n",
    "]\n",
    "\n",
    "violencia_moral = [\n",
    "    'INJURIA', 'DIFAMACAO', 'CALUNIA', 'DENUNCIACAO CALUNIOSA', \n",
    "    'PRECONCEITO RACA COR', 'PRECONCEITO DEFICIENCIA', \n",
    "    'PRECONCEITO RELIGIAO', 'HOMOFOBIA TRANSFOBIA', \n",
    "    'PRECONCEITO ETNIA PROCEDENCIA NACIONAL',\n",
    "    'PROMOVER TUMULTO PRATICAR OU INCITAR A VIOLENCIA OU INVADIR LOCAL RESTRITO AOS COMPETIDORES EM EVENTOS ESPORTIVOS  ART 41 B'\n",
    "]\n",
    "\n",
    "resto_dos_crimes = [\n",
    "    'OUTRAS FRAUDES', 'ENTORPECENTES - TRAFICO', 'EXTORSAO', \n",
    "    'ENTORPECENTES  POSSE', 'EMBRIAGUEZ - ART. 306', \n",
    "    'PERTURBACAO DO TRABALHO OU DO SOSSEGO ALHEIOS', 'DESACATO', \n",
    "    'DANO', 'PERMITIR,CONFIAR,OU ENTREG. DIRECAO A PESSOA S/HABIL.ART 310', \n",
    "    'FUGA DE LOCAL DE ACIDENTE - ART. 305', 'DESCUMPRIMENTO DE MEDIDA PROTETIVA DE URGENCIA', \n",
    "    'DESOBEDIENCIA', 'SUBTRACAO DE INCAPAZ', 'POSSE IRREGULAR DE ARMA DE FOGO DE USO PERMITIDO', \n",
    "    'INVASAO DE DISPOSITIVO INFORMATICO', 'CRIMES CONTRA A FLORA', \n",
    "    'RESISTENCIA', 'ATO OBSCENO', 'INCENDIO DOLOSO', \n",
    "    'DIRIGIR SEM HABILITACAO GERANDO PERIGO DE DANO ART. 309', \n",
    "    'MAUS TRATOS', 'CRIMES CONTRA A FAUNA', 'APROPRIACAO INDEBITA', \n",
    "    'OUTROS CRIMES CONTRA O IDOSO', 'ESBULHO POSSESSORIO', \n",
    "    'MAUS TRATOS CONTRA O IDOSO', 'EXERCICIO ARBITRARIO PROPRIAS RAZOES', \n",
    "    'OUTROS CRIMES CONTRA MEIO AMBIENTE', 'FALSA IDENTIDADE', \n",
    "    'EXERCICIO ARBITRARIO OU ABUSO DE PODER', 'OMISSAO DE CAUTELA NA GUARDA OU CONDUCAO DE ANIMAIS', \n",
    "    'ADULTERACAO DE SINAL IDENTIFICADOR DE VEICULO AUTOMOTOR', \n",
    "    'CRIME DE POLUICAO E OUTROS CRIMES AMBIENTAIS', 'ORGANIZACAO CRIMINOSA ART 2 DA LEI 12850 DE 2013', \n",
    "    'OUTROS CRIMES CONTRA A CRIANCA/ADOLESCENTE', 'INCITACAO AO CRIME', \n",
    "    'FALSIDADE IDEOLOGICA', 'VIOLACAO DE CORRESPONDENCIA', \n",
    "    'VIOLACAO DE DOMICILIO', 'PORTE ILEGAL DE ARMA DE FOGO DE USO PERMITIDO', \n",
    "    'APROPRIACAO COISA HAVIDA POR ERRO CASO FORTUITO OU FORCA DA NATUREZA', \n",
    "    'DIRECAO PERIGOSA (RACHA) ART 308', 'USO DE DOCUMENTO FALSO', \n",
    "    'FAVORECIMENTO REAL', 'OUTROS CRIMES CONTRA A ADMINISTRACAO PUBLICA', \n",
    "    'COACAO NO CURSO DO PROCESSO', 'FALSO TESTEMUNHO OU FALSA PERICIA', \n",
    "    'APROPRIACAO DE COISA ACHADA', 'CONSTRANGIMENTO ILEGAL', \n",
    "    'OUTROS CRIMES CONTRA A FE PUBLICA', 'FALSIFICACAO DE PAPEIS/DOCUMENTOS PUBLICOS', \n",
    "    'ROUBO A MOTORISTA PARTICULAR', 'VIOLAR A SUSPENSAO OU PROIBICAO DE DIRIGIR VEICULO ART.307', \n",
    "    'CONDUTO INCONVENIENTE', 'RIXA', 'OUTROS CRIMES CONTRA O SENTIMENTO RELIGIOSO', \n",
    "    'OUTROS CRIMES CONTRA A ORGANIZACAO DO TRABALHO', 'OUTROS CRIMES CONTRA A FAMILIA', \n",
    "    'ATENTADO CONTRA SEGURANCA SERV UTILIDADE PUBLICA', 'CORRUPCAO PASSIVA', \n",
    "    'CHARLATANISMO', 'PECULATO', 'AFIRMACAO ENGANOSA SOBRE PRODUTO', \n",
    "    'OMISSAO SOCORRO ART 135 CP', 'VIOLACAO DE DIREITO AUTORAL (PLAGIO)', \n",
    "    'REDUCAO A CONDICAO ANALOGA A DE ESCRAVO', 'PICHAR OU POR OUTRO MEIO CONSPURCAR EDIFICACAO OU MONUMENTO URBANO', \n",
    "    'INCENDIO CULPOSO', 'FACILITACAO DE CONTRABANDO OU DESCAMINHO',\n",
    "    'CRUELDADE CONTRA ANIMAIS', 'OUTROS CRIMES', 'FURTO/ARROMBAMENTO A ESTABELECIMENTO DE ENSINO', \n",
    "    'ABANDONO DE INCAPAZ', 'OUTROS CRIMES CONTRA RELACAO DE CONSUMO EOU ECONOMIA POPULAR', \n",
    "    'ABUSO DE INCAPAZ', 'POSSE OU PORTE ILEGAL DE ARMA DE FOGO DE USO RESTRITO', \n",
    "    'TRAFEGAR COM VELOCIDADE INCOMPATIVEL COM A SEGURANCA ART.311', 'JOGOS DE AZAR', \n",
    "    'PORTE ARMA BRANCA', 'OUTROS ROUBOS', \n",
    "    'ABANDONO MATERIAL', 'VIOLACAO DE SEPULTURA', \n",
    "    'CRIME CONTRA O SENTIMENTO RELIGIOSO E RESPEITO AOS MORTOS', \n",
    "    'SERVIR BEBIDA ALCOOLICA A VULNERAVEIS', 'ENTORPECENTE  ASSOCIACAO', \n",
    "    'EXERCICIO ILEGAL DA PROFISSAO', 'ASSOCIACAO CRIMINOSA ART 288 DO CP', \n",
    "    'COMUNICACAO FALSA DE CRIME OU CONTRAVENCAO', 'ALTERACAO LIMITES DIVISORIOS', \n",
    "    'INFRACAO DE MEDIDA SANITARIA PREVENTIVA', 'POSSE OU PORTE ILEGAL DE ARMA DE FOGO DE USO PROIBIDO', \n",
    "    'FURTO/ARROMBAMENTO ESTABELECIMENTO BANCARIO', 'ABANDONO DE IDOSO', \n",
    "    'FALSIFICACAO DE DOCUMENTOS PARTICULARES', 'CRIMES DE ABUSO DE AUTORIDADE', \n",
    "    'OUTROS CRIMES CONTRA O PATRIMONIO', 'ABORTO', 'PREVARICACAO', \n",
    "    'CRIME CONTRA A ORDEM TRIBUTARIA - LEI 8137/90', 'EXTORSAO MEDIANTE SEQUESTRO', \n",
    "    'CRIMES DE LAVAGEM OU OCULTACAO DE BENS DIREITOS E VALORES LEI 9613 DE 3 DE MARCO DE 1998', \n",
    "    'CRIME ELEITORAL', 'CONDICIONAMENTO DE ATENDIMENTO MEDICO HOSPITALAR EMERGENCIAL', \n",
    "    'CURANDERISMO', 'CORRUPCAO DE MENORES', 'COMERCIO ILEGAL DE ARMA DE FOGO', \n",
    "    'CONCUSSAO', 'CRIME CONTRA A ADMINISTRACAO AMBIENTAL', \n",
    "    'DISPOR COISA ALHEIA COMO PROPRIA', 'EXTRAVIO SONEGACAO OU INUTILIZACAO DE LIVRO OU DOCUMENTO', \n",
    "    'CRIME CONTRA O ORDENAMENTO URBANO E PATRIMONIO CULTURAL', \n",
    "    'RECUSA DE DADOS SOBRE A PROPRIA IDENTIFICACAO OU QUALIFICACAO', 'VILIPENDIO A CADAVER', \n",
    "    'ARREMESSO DE PROJETIL  ART 264 CP', 'OMISSAO CAUTELA ARMA FOGO', \n",
    "    'FAVORECIMENTO PESSOAL', 'VIOLACAO DE SIGILO FUNCIONAL', \n",
    "    'CRIMES CONTRA O SISTEMA FINANCEIRO - LEI 7492/86', \n",
    "    'OUTROS CRIMES CONTRA A LIBERDADE INDIVIDUAL', 'CASA DE PROSTITUICAO', \n",
    "    'TRAFICO INTERNACIONAL DE ARMA DE FOGO', 'CONCORRENCIA DESLEAL', \n",
    "    'FORNECER ARMA, MUNICAO, EXPLOSIVO A CRIANCA/ADOLESCENTE', \n",
    "    'FABRICO COMERCIO OU DENTENCAO DE ARMA BRANCA OU MUNICAO', \n",
    "    'ATIVIDADE(S) COM RISCOS A SEGURANCA', 'MOTIM DE PRESOS', \n",
    "    'NEGAR INFORMACOES AO CONSUMIDOR', 'ATIVIDADE CLANDESTINA DE TELECOMUNICACOES',\n",
    "    'OUTROS CRIMES QUE GERAM TERMOS CIRCUNSTANCIADOS', 'OUTROS CRIMES CONTRA A INCULUMIDADE PUBLICA', \n",
    "    'CORRUPCAO ATIVA', 'ABANDONO INTELECTUAL'\n",
    "]\n",
    "\n",
    "selecionados = violencia_fisica + violencia_psicologica + violencia_sexual + violencia_patrimonial + violencia_moral + resto_dos_crimes\n",
    "print(len(selecionados))\n",
    "\n",
    "crimes = []\n",
    "crimes = op_2021.loc[(op_2021['Sexo Vítima'] != 'Masculino') & (op_2021['Tipo Enquadramento'].isin(selecionados)), :]['Tipo Enquadramento'].unique()\n",
    "print(len(crimes))"
   ]
  },
  {
   "cell_type": "markdown",
   "id": "baf9d44e",
   "metadata": {
    "ExecuteTime": {
     "end_time": "2024-04-27T17:13:22.653848Z",
     "start_time": "2024-04-27T17:13:22.644009Z"
    }
   },
   "source": [
    "## 4. EXPLORATORY DATA ANALYSIS (EDA)"
   ]
  },
  {
   "cell_type": "markdown",
   "id": "a6a32098",
   "metadata": {},
   "source": [
    "Para uma compreensão mais profunda dos dados de casos de dengue, é essencial realizar uma análise detalhada dos outliers presentes. Esta análise nos permitirá:\n",
    "1. Entender a Causa dos Outliers: Por que eles acontecem?\n",
    "2. Avaliar o Impacto dos Outliers na Previsão dos Casos de Dengue: Como eles afetam a previsão dos casos de dengue?\n",
    "3. Determinar o Tratamento Adequado dos Outliers: O que fazer com eles?\n"
   ]
  },
  {
   "cell_type": "markdown",
   "id": "f686dc7d",
   "metadata": {},
   "source": [
    "### 4.1. Análise Univariada"
   ]
  },
  {
   "cell_type": "markdown",
   "id": "4d092e66",
   "metadata": {},
   "source": [
    "### 4.2. Análise Bivariada"
   ]
  },
  {
   "cell_type": "markdown",
   "id": "9dec9a64",
   "metadata": {},
   "source": [
    "### 4.3. Análise Multivariada"
   ]
  },
  {
   "cell_type": "markdown",
   "id": "9a78bfc9",
   "metadata": {},
   "source": [
    "- Correlação entre Variáveis Numéricas;\n",
    "- Correlação entre Variáveis Categóricas."
   ]
  },
  {
   "cell_type": "markdown",
   "id": "d19aa281",
   "metadata": {},
   "source": [
    "### 4.4. Análise de séries temporais"
   ]
  },
  {
   "cell_type": "markdown",
   "id": "fcaba755",
   "metadata": {},
   "source": [
    "### 4.5. Análise de outliers"
   ]
  },
  {
   "cell_type": "markdown",
   "id": "fcfcbd5c",
   "metadata": {},
   "source": [
    "### 4.6. Teste de hipóteses"
   ]
  },
  {
   "cell_type": "markdown",
   "id": "b45b33e7",
   "metadata": {},
   "source": [
    "# III. Preparação dos dados"
   ]
  },
  {
   "cell_type": "markdown",
   "id": "b6cf58f3",
   "metadata": {},
   "source": [
    "## 5. DATA PREPARATION"
   ]
  },
  {
   "cell_type": "markdown",
   "id": "ee955399",
   "metadata": {},
   "source": [
    "**Por que é importante?**\n",
    "\n",
    "O aprendizado dos algoritmos de ML é facilitado com dados numéricos e na mesma escala.\n",
    "\n",
    "**O que fazer?**\n",
    "- Normalização: Diminuir o grau de importância das variáveis com maior range;\n",
    "- Encoding: Transformar as variáveis categóricas em numéricas;\n",
    "- Rescaling: Reescala para o intervalo entre 0 e 1;\n",
    "- Transformation: [Transformação cíclica do time series](https://joaquinamatrodrigo.github.io/skforecast/0.8.1/faq/cyclical-features-time-series.html) (ex.: natureza cíclica dos meses, anos, semanas etc)."
   ]
  },
  {
   "cell_type": "markdown",
   "id": "9f608de4",
   "metadata": {},
   "source": [
    "### 5.1. Separar arquivos de treino e validação"
   ]
  },
  {
   "cell_type": "markdown",
   "id": "cc14cc84",
   "metadata": {},
   "source": [
    "### 5.3. Normalização do fenômeno"
   ]
  },
  {
   "cell_type": "markdown",
   "id": "ddaef951",
   "metadata": {},
   "source": [
    "### 5.3. Demais transformações"
   ]
  },
  {
   "cell_type": "markdown",
   "id": "ea2e0bce",
   "metadata": {},
   "source": [
    "# IV. Modelagem"
   ]
  },
  {
   "cell_type": "markdown",
   "id": "a568f3c4",
   "metadata": {},
   "source": [
    "Pipeline:\n",
    "- Data cleaning\n",
    "- Feature Engineering\n",
    "- Transformations (Encoder dos categóricos, escala dos numéricos)"
   ]
  },
  {
   "cell_type": "markdown",
   "id": "d7cb427a",
   "metadata": {},
   "source": [
    "## 6. MACHINE LEARNING MODELING"
   ]
  },
  {
   "cell_type": "markdown",
   "id": "5fec24f2",
   "metadata": {},
   "source": [
    "# V. Validação"
   ]
  },
  {
   "cell_type": "markdown",
   "id": "420db31d",
   "metadata": {},
   "source": [
    "## 7. HYPERPARAMETER FINE TUNING"
   ]
  },
  {
   "cell_type": "markdown",
   "id": "d90a252a",
   "metadata": {},
   "source": [
    "### 7.1. GridSearchCV"
   ]
  },
  {
   "cell_type": "markdown",
   "id": "3ef07bbd",
   "metadata": {},
   "source": [
    "### 7.2. Validação"
   ]
  },
  {
   "cell_type": "markdown",
   "id": "12a8657e",
   "metadata": {},
   "source": [
    "## 8. OPTIMIZATION"
   ]
  },
  {
   "cell_type": "markdown",
   "id": "9634df60",
   "metadata": {},
   "source": [
    "### 8.1. Feature Importance"
   ]
  },
  {
   "cell_type": "markdown",
   "id": "9aba61a3",
   "metadata": {},
   "source": [
    "- Data: Importância das features;\n",
    "- Index: Nomes das features."
   ]
  },
  {
   "cell_type": "markdown",
   "id": "15d8f66d",
   "metadata": {},
   "source": [
    "## 9. ERROR TRANSLATION AND INTERPRETATION"
   ]
  },
  {
   "cell_type": "markdown",
   "id": "92a6164c",
   "metadata": {},
   "source": [
    "### 9.1. Business Performance"
   ]
  },
  {
   "cell_type": "code",
   "execution_count": null,
   "id": "c6c1195c",
   "metadata": {},
   "outputs": [],
   "source": []
  },
  {
   "cell_type": "markdown",
   "id": "e51b6f3d",
   "metadata": {},
   "source": [
    "### 9.2. Total Performance"
   ]
  },
  {
   "cell_type": "code",
   "execution_count": null,
   "id": "baee831d",
   "metadata": {},
   "outputs": [],
   "source": []
  },
  {
   "cell_type": "markdown",
   "id": "5c6bc19c",
   "metadata": {},
   "source": [
    "# VI. Implantação"
   ]
  },
  {
   "cell_type": "markdown",
   "id": "920ba408",
   "metadata": {},
   "source": [
    "## 10. DEPLOY MODEL PRODUCTION"
   ]
  },
  {
   "cell_type": "markdown",
   "id": "5fab9135",
   "metadata": {},
   "source": [
    "### 10.1. Salvar modelo"
   ]
  },
  {
   "cell_type": "code",
   "execution_count": 48,
   "id": "a0ab4dae",
   "metadata": {
    "ExecuteTime": {
     "end_time": "2024-04-28T20:43:15.000548Z",
     "start_time": "2024-04-28T20:43:14.989551Z"
    }
   },
   "outputs": [],
   "source": [
    "# Salvar o modelo \n",
    "with open('../models/model.pkl', 'wb') as file_model:\n",
    "    pickle.dump(model_pipeline, file_model)"
   ]
  },
  {
   "cell_type": "markdown",
   "id": "0d5fe4c4",
   "metadata": {},
   "source": [
    "### 10.2. Salvar arquivo de submissão"
   ]
  },
  {
   "cell_type": "markdown",
   "id": "eed16ffa",
   "metadata": {},
   "source": [
    "### 10.3. Prever resultados do teste"
   ]
  }
 ],
 "metadata": {
  "kernelspec": {
   "display_name": "Python 3 (ipykernel)",
   "language": "python",
   "name": "python3"
  },
  "language_info": {
   "codemirror_mode": {
    "name": "ipython",
    "version": 3
   },
   "file_extension": ".py",
   "mimetype": "text/x-python",
   "name": "python",
   "nbconvert_exporter": "python",
   "pygments_lexer": "ipython3",
   "version": "3.12.4"
  }
 },
 "nbformat": 4,
 "nbformat_minor": 5
}
